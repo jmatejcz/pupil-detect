{
 "cells": [
  {
   "cell_type": "code",
   "execution_count": null,
   "metadata": {},
   "outputs": [],
   "source": [
    "import matplotlib.pyplot as plt\n",
    "from datasets.PupilCoreDatasetPupil import PupilCoreDataset\n",
    "import torch\n",
    "from eye_model import EyeModeling\n",
    "from torchvision.models.segmentation import FCN_ResNet50_Weights, fcn_resnet50\n",
    "import numpy as np\n",
    "import utils\n",
    "from models.ifOpened import ifOpenedModel\n",
    "from models.trainers import PupilSegmentationTrainer, IfOpenedTrainer\n",
    "from visualization.visualise_pupil import draw_normal_vectors_2D"
   ]
  },
  {
   "cell_type": "code",
   "execution_count": null,
   "metadata": {},
   "outputs": [],
   "source": [
    "DATASET_LEN_TO_USE = 5000\n",
    "dataset = PupilCoreDataset(\n",
    "    \"datasets/PupilCoreDataset/video5_eye0_video.avi\",\n",
    "    'datasets/PupilCoreDataset/video5_eye0_pupildata.csv',\n",
    "    \"datasets/PupilCoreDataset/video5_eye1_video.avi\",\n",
    "    'datasets/PupilCoreDataset/video5_eye1_pupildata.csv',\n",
    "    DATASET_LEN_TO_USE\n",
    ")\n",
    "# dataset.get_pupil_ellipse()\n",
    "# dataset.save_masks(\"datasets/PupilCoreDataset/created_masks\")"
   ]
  },
  {
   "cell_type": "code",
   "execution_count": null,
   "metadata": {},
   "outputs": [],
   "source": [
    "device = torch.device('cuda' if torch.cuda.is_available() else 'cpu')\n",
    "device"
   ]
  },
  {
   "cell_type": "code",
   "execution_count": null,
   "metadata": {},
   "outputs": [],
   "source": [
    "ifOpenedModel = ifOpenedModel()\n",
    "PupilSegmentationModel = fcn_resnet50(weights=None, num_classes=1)"
   ]
  },
  {
   "cell_type": "code",
   "execution_count": null,
   "metadata": {},
   "outputs": [],
   "source": [
    "dataset.load_masks(\"datasets/PupilCoreDataset/created_masks/eye0\", \"datasets/PupilCoreDataset/created_masks/eye1\")"
   ]
  },
  {
   "cell_type": "code",
   "execution_count": null,
   "metadata": {},
   "outputs": [],
   "source": [
    "torch.set_printoptions(edgeitems=100)\n"
   ]
  },
  {
   "cell_type": "code",
   "execution_count": null,
   "metadata": {},
   "outputs": [],
   "source": [
    "if_opened_trainer = IfOpenedTrainer(model=ifOpenedModel, dataset=dataset, dataset_len=DATASET_LEN_TO_USE)\n",
    "pupil_trainer = PupilSegmentationTrainer(model=PupilSegmentationModel, dataset=dataset, dataset_len=DATASET_LEN_TO_USE)"
   ]
  },
  {
   "cell_type": "code",
   "execution_count": null,
   "metadata": {},
   "outputs": [],
   "source": [
    "# dataset_pupil.get_pupil_ellipse()"
   ]
  },
  {
   "cell_type": "code",
   "execution_count": null,
   "metadata": {},
   "outputs": [],
   "source": [
    "# pupil_trainer.train(device=device, num_epochs=5)"
   ]
  },
  {
   "cell_type": "code",
   "execution_count": null,
   "metadata": {},
   "outputs": [],
   "source": [
    "# pupil_trainer.train(device=device, num_epochs=5)\n",
    "pupil_trainer.model.load_state_dict(torch.load(\"models/weights/resnet50.pt\"))\n"
   ]
  },
  {
   "cell_type": "code",
   "execution_count": null,
   "metadata": {},
   "outputs": [],
   "source": [
    "def visualize_mask(image, mask):\n",
    "    with torch.no_grad():\n",
    "        pupil_trainer.model.eval()\n",
    "        pupil_trainer.model = pupil_trainer.model.to(device)\n",
    "        for i, (inputs, masks, opened) in enumerate(pupil_trainer.dataloaders['test']):\n",
    "\n",
    "            inputs = inputs.to(device)\n",
    "            outputs = pupil_trainer.model(inputs)\n",
    "\n",
    "\n",
    "            image = np.transpose(inputs[0].cpu().numpy(), (1, 2, 0)).copy()\n",
    "            outputs_sig = torch.sigmoid(outputs['out'][0])\n",
    "            outputs_sig = np.transpose(outputs_sig.cpu().numpy(), (1, 2, 0)).copy()\n",
    "\n",
    "            # visualize_pupil(image, outputs_sig)\n",
    "            ellipse = utils.fit_ellipse(outputs_sig)\n",
    "            print(ellipse)\n",
    "            break\n",
    "\n"
   ]
  },
  {
   "cell_type": "code",
   "execution_count": null,
   "metadata": {},
   "outputs": [],
   "source": [
    "# TODO zmierzyc focal_len na obrazkach w pikselach\n",
    "# trzeba zebrac obrazki gdzie oko patrzy w miare prosto\n",
    "\n",
    "estimate_radius_in_px = utils.get_pupil_radius_from_masks(dataset.eye0_masks)\n"
   ]
  },
  {
   "cell_type": "code",
   "execution_count": null,
   "metadata": {},
   "outputs": [],
   "source": [
    "# TODO swirski test\n",
    "focal_len = 140 # ??? taken from https://github.com/pupil-labs/pupil/blob/master/pupil_src/shared_modules/camera_models.py Pupil Cam3\n",
    "image_shape = (192, 192)\n",
    "eye_modeling = EyeModeling(focal_len=focal_len, pupil_radius=estimate_radius_in_px, image_shape=image_shape)\n",
    "\n",
    "with torch.no_grad():\n",
    "    pupil_trainer.model.eval()\n",
    "    pupil_trainer.model = pupil_trainer.model.to(device)\n",
    "    for i, (inputs, masks, opened) in enumerate(pupil_trainer.dataloaders['test']):\n",
    "\n",
    "        inputs = inputs.to(device)\n",
    "        outputs = pupil_trainer.model(inputs)\n",
    "\n",
    "        image = np.transpose(inputs[0].cpu().numpy(), (1, 2, 0)).copy()\n",
    "        outputs_sig = torch.sigmoid(outputs['out'][0])\n",
    "        outputs_sig = np.transpose(outputs_sig.cpu().numpy(), (1, 2, 0)).copy()\n",
    "\n",
    "        ellipse = utils.fit_ellipse(outputs_sig)\n",
    "        if ellipse:\n",
    "            eye_modeling.two_circle_unprojection(ellipse)\n",
    "\n",
    "            vec_img = draw_normal_vectors_2D(image, eye_modeling.disc_centers[i][0][0:2], eye_modeling.disc_normals[i][0][0:2], color=(0,0,255))\n",
    "            vec_img = draw_normal_vectors_2D(image, eye_modeling.disc_centers[i][1][0:2], eye_modeling.disc_normals[i][1][0:2], color=(255,0,0))\n",
    "            plt.imshow(vec_img)\n",
    "            plt.show()\n",
    "\n",
    "        if i > 50:\n",
    "            break\n",
    "    \n",
    "    eye_modeling.sphere_centre_estimate()\n",
    "    print(eye_modeling.estimated_eye_center)\n",
    "    eye_modeling.sphere_radius_estimate()\n",
    "    \n",
    "    "
   ]
  },
  {
   "cell_type": "code",
   "execution_count": null,
   "metadata": {},
   "outputs": [],
   "source": [
    "#TODO 2 NN system\n"
   ]
  }
 ],
 "metadata": {
  "kernelspec": {
   "display_name": "Python 3.10.7 ('my_env': venv)",
   "language": "python",
   "name": "python3"
  },
  "language_info": {
   "codemirror_mode": {
    "name": "ipython",
    "version": 3
   },
   "file_extension": ".py",
   "mimetype": "text/x-python",
   "name": "python",
   "nbconvert_exporter": "python",
   "pygments_lexer": "ipython3",
   "version": "3.10.7"
  },
  "orig_nbformat": 4,
  "vscode": {
   "interpreter": {
    "hash": "835d31919e34e16ebfc56bd2c74fd77981e034dd4359f7c353db7e63b4248092"
   }
  }
 },
 "nbformat": 4,
 "nbformat_minor": 2
}
