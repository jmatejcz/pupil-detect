{
 "cells": [
  {
   "cell_type": "code",
   "execution_count": 1,
   "metadata": {},
   "outputs": [],
   "source": [
    "import matplotlib.pyplot as plt\n",
    "from datasets.PupilCoreDatasetPupil import PupilCoreDataset\n",
    "import torch\n",
    "from eye_model import EyeModeling\n",
    "from torchvision.models.segmentation import FCN_ResNet50_Weights, fcn_resnet50\n",
    "import numpy as np\n",
    "import cv2\n",
    "import utils\n",
    "from models.ifOpened import ifOpenedModel\n",
    "from models.trainers import PupilSegmentationTrainer, IfOpenedTrainer"
   ]
  },
  {
   "cell_type": "code",
   "execution_count": 2,
   "metadata": {},
   "outputs": [],
   "source": [
    "DATASET_LEN_TO_USE = 5000\n",
    "dataset = PupilCoreDataset(\n",
    "    \"datasets/PupilCoreDataset/video5_eye0_video.avi\",\n",
    "    'datasets/PupilCoreDataset/video5_eye0_pupildata.csv',\n",
    "    \"datasets/PupilCoreDataset/video5_eye1_video.avi\",\n",
    "    'datasets/PupilCoreDataset/video5_eye1_pupildata.csv',\n",
    "    DATASET_LEN_TO_USE\n",
    ")\n",
    "# dataset.get_pupil_ellipse()\n",
    "# dataset.save_masks(\"datasets/PupilCoreDataset/created_masks\")"
   ]
  },
  {
   "cell_type": "code",
   "execution_count": 3,
   "metadata": {},
   "outputs": [
    {
     "data": {
      "text/plain": [
       "device(type='cuda')"
      ]
     },
     "execution_count": 3,
     "metadata": {},
     "output_type": "execute_result"
    }
   ],
   "source": [
    "device = torch.device('cuda' if torch.cuda.is_available() else 'cpu')\n",
    "device"
   ]
  },
  {
   "cell_type": "code",
   "execution_count": 4,
   "metadata": {},
   "outputs": [
    {
     "name": "stderr",
     "output_type": "stream",
     "text": [
      "c:\\Users\\Admin\\Desktop\\inzynierka\\my_env\\lib\\site-packages\\torchvision\\models\\_utils.py:208: UserWarning: The parameter 'pretrained' is deprecated since 0.13 and will be removed in 0.15, please use 'weights' instead.\n",
      "  warnings.warn(\n",
      "c:\\Users\\Admin\\Desktop\\inzynierka\\my_env\\lib\\site-packages\\torchvision\\models\\_utils.py:223: UserWarning: Arguments other than a weight enum or `None` for 'weights' are deprecated since 0.13 and will be removed in 0.15. The current behavior is equivalent to passing `weights=SqueezeNet1_1_Weights.IMAGENET1K_V1`. You can also use `weights=SqueezeNet1_1_Weights.DEFAULT` to get the most up-to-date weights.\n",
      "  warnings.warn(msg)\n"
     ]
    }
   ],
   "source": [
    "ifOpenedModel = ifOpenedModel()\n",
    "PupilSegmentationModel = fcn_resnet50(weights=None, num_classes=1)"
   ]
  },
  {
   "cell_type": "code",
   "execution_count": 5,
   "metadata": {},
   "outputs": [],
   "source": [
    "dataset.load_masks(\"datasets/PupilCoreDataset/created_masks/eye0\", \"datasets/PupilCoreDataset/created_masks/eye1\")"
   ]
  },
  {
   "cell_type": "code",
   "execution_count": 6,
   "metadata": {},
   "outputs": [],
   "source": [
    "torch.set_printoptions(edgeitems=100)\n"
   ]
  },
  {
   "cell_type": "code",
   "execution_count": 7,
   "metadata": {},
   "outputs": [],
   "source": [
    "if_opened_trainer = IfOpenedTrainer(model=ifOpenedModel, dataset=dataset, dataset_len=DATASET_LEN_TO_USE)\n",
    "pupil_trainer = PupilSegmentationTrainer(model=PupilSegmentationModel, dataset=dataset, dataset_len=DATASET_LEN_TO_USE)"
   ]
  },
  {
   "cell_type": "code",
   "execution_count": 8,
   "metadata": {},
   "outputs": [],
   "source": [
    "# dataset_pupil.get_pupil_ellipse()"
   ]
  },
  {
   "cell_type": "code",
   "execution_count": 9,
   "metadata": {},
   "outputs": [],
   "source": [
    "# pupil_trainer.train(device=device, num_epochs=5)"
   ]
  },
  {
   "cell_type": "code",
   "execution_count": 10,
   "metadata": {},
   "outputs": [
    {
     "data": {
      "text/plain": [
       "<All keys matched successfully>"
      ]
     },
     "execution_count": 10,
     "metadata": {},
     "output_type": "execute_result"
    }
   ],
   "source": [
    "# pupil_trainer.train(device=device, num_epochs=5)\n",
    "pupil_trainer.model.load_state_dict(torch.load(\"models/weights/resnet50.pt\"))\n"
   ]
  },
  {
   "cell_type": "code",
   "execution_count": 11,
   "metadata": {},
   "outputs": [],
   "source": [
    "def visualize_mask(image, mask):\n",
    "    with torch.no_grad():\n",
    "        pupil_trainer.model.eval()\n",
    "        pupil_trainer.model = pupil_trainer.model.to(device)\n",
    "        for i, (inputs, masks, opened) in enumerate(pupil_trainer.dataloaders['test']):\n",
    "\n",
    "            inputs = inputs.to(device)\n",
    "            outputs = pupil_trainer.model(inputs)\n",
    "\n",
    "\n",
    "            image = np.transpose(inputs[0].cpu().numpy(), (1, 2, 0)).copy()\n",
    "            outputs_sig = torch.sigmoid(outputs['out'][0])\n",
    "            outputs_sig = np.transpose(outputs_sig.cpu().numpy(), (1, 2, 0)).copy()\n",
    "\n",
    "            # visualize_pupil(image, outputs_sig)\n",
    "            ellipse = utils.fit_ellipse(outputs_sig)\n",
    "            print(ellipse)\n",
    "            break\n",
    "\n"
   ]
  },
  {
   "cell_type": "code",
   "execution_count": null,
   "metadata": {},
   "outputs": [],
   "source": []
  },
  {
   "cell_type": "code",
   "execution_count": 12,
   "metadata": {},
   "outputs": [
    {
     "name": "stdout",
     "output_type": "stream",
     "text": [
      "((115.97880554199219, 100.99464416503906), (21.899005889892578, 26.178293228149414), 97.20674896240234)\n",
      "((98.01856231689453, 60.05283737182617), (26.295475006103516, 27.625457763671875), 120.30876922607422)\n",
      "((67.0, 54.0), (20.054094314575195, 22.13465690612793), 5.476513862609863)\n",
      "((105.000732421875, 101.08638000488281), (20.21428108215332, 23.93794822692871), 111.64768981933594)\n",
      "((105.02687072753906, 100.02754211425781), (20.20345115661621, 26.08974266052246), 105.77178192138672)\n",
      "((125.01477813720703, 96.9703140258789), (21.947195053100586, 25.969667434692383), 87.8128890991211)\n",
      "((123.98171997070312, 98.00631713867188), (24.02872085571289, 27.988697052001953), 91.60010528564453)\n",
      "((112.05626678466797, 81.9906234741211), (26.168251037597656, 27.963890075683594), 106.60002136230469)\n"
     ]
    }
   ],
   "source": [
    "# TODO zmierzyc focal_len na obrazkach w pikselach\n",
    "# trzeba zebrac obrazki gdzie oko patrzy w miare prosto\n",
    "masks_idx_to_get_pupil_radius = [1186, 1614, 1795, 3096, 3137, 3252, 3320, 4246]\n",
    "# plt.imshow(dataset.eye0_frames[1186])\n",
    "# plt.show()\n",
    "# plt.imshow(dataset.eye0_masks[1186])\n",
    "# plt.show()\n",
    "# plt.imshow(dataset.eye0_masks[1614])\n",
    "# plt.show()\n",
    "# plt.imshow(dataset.eye0_masks[1795])\n",
    "# plt.show()\n",
    "# plt.imshow(dataset.eye0_masks[3096])\n",
    "# plt.show()\n",
    "# plt.imshow(dataset.eye0_masks[3137])\n",
    "# plt.show()\n",
    "masks_for_radius = [dataset.eye0_masks[idx] for idx in masks_idx_to_get_pupil_radius]\n",
    "utils.get_pupil_radius_from_images(masks_for_radius)\n",
    "# utils.fit_ellipse(masks_to_get_pupil_radius[0])\n"
   ]
  },
  {
   "cell_type": "code",
   "execution_count": 13,
   "metadata": {},
   "outputs": [
    {
     "ename": "NameError",
     "evalue": "name 'ellipse' is not defined",
     "output_type": "error",
     "traceback": [
      "\u001b[1;31m---------------------------------------------------------------------------\u001b[0m",
      "\u001b[1;31mNameError\u001b[0m                                 Traceback (most recent call last)",
      "Cell \u001b[1;32mIn [13], line 3\u001b[0m\n\u001b[0;32m      1\u001b[0m \u001b[39m# TODO swirski test\u001b[39;00m\n\u001b[0;32m      2\u001b[0m focal_len \u001b[39m=\u001b[39m \u001b[39m140\u001b[39m \u001b[39m# ??? taken from https://github.com/pupil-labs/pupil/blob/master/pupil_src/shared_modules/camera_models.py Pupil Cam3\u001b[39;00m\n\u001b[1;32m----> 3\u001b[0m eye_modeling \u001b[39m=\u001b[39m EyeModeling(ellipse\u001b[39m=\u001b[39mellipse, focal_len\u001b[39m=\u001b[39mfocal_len)\n",
      "\u001b[1;31mNameError\u001b[0m: name 'ellipse' is not defined"
     ]
    }
   ],
   "source": [
    "# TODO swirski test\n",
    "focal_len = 140 # ??? taken from https://github.com/pupil-labs/pupil/blob/master/pupil_src/shared_modules/camera_models.py Pupil Cam3\n",
    "eye_modeling = EyeModeling(ellipse=ellipse, focal_len=focal_len)"
   ]
  },
  {
   "cell_type": "code",
   "execution_count": null,
   "metadata": {},
   "outputs": [],
   "source": [
    "#TODO 2 NN system\n"
   ]
  }
 ],
 "metadata": {
  "kernelspec": {
   "display_name": "Python 3.10.7 ('my_env': venv)",
   "language": "python",
   "name": "python3"
  },
  "language_info": {
   "codemirror_mode": {
    "name": "ipython",
    "version": 3
   },
   "file_extension": ".py",
   "mimetype": "text/x-python",
   "name": "python",
   "nbconvert_exporter": "python",
   "pygments_lexer": "ipython3",
   "version": "3.10.7"
  },
  "orig_nbformat": 4,
  "vscode": {
   "interpreter": {
    "hash": "835d31919e34e16ebfc56bd2c74fd77981e034dd4359f7c353db7e63b4248092"
   }
  }
 },
 "nbformat": 4,
 "nbformat_minor": 2
}
