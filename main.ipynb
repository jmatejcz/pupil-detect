{
 "cells": [
  {
   "cell_type": "code",
   "execution_count": 1,
   "metadata": {},
   "outputs": [],
   "source": [
    "import matplotlib.pyplot as plt\n",
    "from datasets.PupilCoreDatasetPupil import PupilCoreDataset\n",
    "import torch\n",
    "from eye_model import EyeModeling\n",
    "from torchvision.models.segmentation import FCN_ResNet50_Weights, fcn_resnet50\n",
    "import numpy as np\n",
    "import utils\n",
    "from models.ifOpened import ifOpenedModel\n",
    "from models.trainers import PupilSegmentationTrainer, IfOpenedTrainer\n",
    "from visualization.visualise_pupil import draw_normal_vectors_2D"
   ]
  },
  {
   "cell_type": "code",
   "execution_count": 2,
   "metadata": {},
   "outputs": [],
   "source": [
    "DATASET_LEN_TO_USE = 5000\n",
    "dataset = PupilCoreDataset(\n",
    "    \"datasets/PupilCoreDataset/video5_eye0_video.avi\",\n",
    "    'datasets/PupilCoreDataset/video5_eye0_pupildata.csv',\n",
    "    \"datasets/PupilCoreDataset/video5_eye1_video.avi\",\n",
    "    'datasets/PupilCoreDataset/video5_eye1_pupildata.csv',\n",
    "    DATASET_LEN_TO_USE\n",
    ")\n",
    "# dataset.get_pupil_ellipse()\n",
    "# dataset.save_masks(\"datasets/PupilCoreDataset/created_masks\")"
   ]
  },
  {
   "cell_type": "code",
   "execution_count": 3,
   "metadata": {},
   "outputs": [
    {
     "data": {
      "text/plain": [
       "device(type='cuda')"
      ]
     },
     "execution_count": 3,
     "metadata": {},
     "output_type": "execute_result"
    }
   ],
   "source": [
    "device = torch.device('cuda' if torch.cuda.is_available() else 'cpu')\n",
    "device"
   ]
  },
  {
   "cell_type": "code",
   "execution_count": 4,
   "metadata": {},
   "outputs": [
    {
     "name": "stderr",
     "output_type": "stream",
     "text": [
      "c:\\Users\\Admin\\Desktop\\inzynierka\\my_env\\lib\\site-packages\\torchvision\\models\\_utils.py:208: UserWarning: The parameter 'pretrained' is deprecated since 0.13 and will be removed in 0.15, please use 'weights' instead.\n",
      "  warnings.warn(\n",
      "c:\\Users\\Admin\\Desktop\\inzynierka\\my_env\\lib\\site-packages\\torchvision\\models\\_utils.py:223: UserWarning: Arguments other than a weight enum or `None` for 'weights' are deprecated since 0.13 and will be removed in 0.15. The current behavior is equivalent to passing `weights=SqueezeNet1_1_Weights.IMAGENET1K_V1`. You can also use `weights=SqueezeNet1_1_Weights.DEFAULT` to get the most up-to-date weights.\n",
      "  warnings.warn(msg)\n"
     ]
    }
   ],
   "source": [
    "ifOpenedModel = ifOpenedModel()\n",
    "PupilSegmentationModel = fcn_resnet50(weights=None, num_classes=1)"
   ]
  },
  {
   "cell_type": "code",
   "execution_count": 5,
   "metadata": {},
   "outputs": [],
   "source": [
    "dataset.load_masks(\"datasets/PupilCoreDataset/created_masks/eye0\", \"datasets/PupilCoreDataset/created_masks/eye1\")"
   ]
  },
  {
   "cell_type": "code",
   "execution_count": 6,
   "metadata": {},
   "outputs": [],
   "source": [
    "torch.set_printoptions(edgeitems=100)\n"
   ]
  },
  {
   "cell_type": "code",
   "execution_count": 7,
   "metadata": {},
   "outputs": [],
   "source": [
    "if_opened_trainer = IfOpenedTrainer(model=ifOpenedModel, dataset=dataset, dataset_len=DATASET_LEN_TO_USE)\n",
    "pupil_trainer = PupilSegmentationTrainer(model=PupilSegmentationModel, dataset=dataset, dataset_len=DATASET_LEN_TO_USE)"
   ]
  },
  {
   "cell_type": "code",
   "execution_count": 8,
   "metadata": {},
   "outputs": [],
   "source": [
    "# dataset_pupil.get_pupil_ellipse()"
   ]
  },
  {
   "cell_type": "code",
   "execution_count": 9,
   "metadata": {},
   "outputs": [],
   "source": [
    "# pupil_trainer.train(device=device, num_epochs=5)"
   ]
  },
  {
   "cell_type": "code",
   "execution_count": 10,
   "metadata": {},
   "outputs": [
    {
     "data": {
      "text/plain": [
       "<All keys matched successfully>"
      ]
     },
     "execution_count": 10,
     "metadata": {},
     "output_type": "execute_result"
    }
   ],
   "source": [
    "# pupil_trainer.train(device=device, num_epochs=5)\n",
    "pupil_trainer.model.load_state_dict(torch.load(\"models/weights/resnet50.pt\"))\n"
   ]
  },
  {
   "cell_type": "code",
   "execution_count": 11,
   "metadata": {},
   "outputs": [],
   "source": [
    "def visualize_mask(image, mask):\n",
    "    with torch.no_grad():\n",
    "        pupil_trainer.model.eval()\n",
    "        pupil_trainer.model = pupil_trainer.model.to(device)\n",
    "        for i, (inputs, masks, opened) in enumerate(pupil_trainer.dataloaders['test']):\n",
    "\n",
    "            inputs = inputs.to(device)\n",
    "            outputs = pupil_trainer.model(inputs)\n",
    "\n",
    "\n",
    "            image = np.transpose(inputs[0].cpu().numpy(), (1, 2, 0)).copy()\n",
    "            outputs_sig = torch.sigmoid(outputs['out'][0])\n",
    "            outputs_sig = np.transpose(outputs_sig.cpu().numpy(), (1, 2, 0)).copy()\n",
    "\n",
    "            # visualize_pupil(image, outputs_sig)\n",
    "            ellipse = utils.fit_ellipse(outputs_sig)\n",
    "            print(ellipse)\n",
    "            break\n",
    "\n"
   ]
  },
  {
   "cell_type": "code",
   "execution_count": 12,
   "metadata": {},
   "outputs": [],
   "source": [
    "# TODO zmierzyc focal_len na obrazkach w pikselach\n",
    "# trzeba zebrac obrazki gdzie oko patrzy w miare prosto\n",
    "\n",
    "estimate_radius_in_px = utils.get_pupil_radius_from_masks(dataset.eye0_masks)\n"
   ]
  },
  {
   "cell_type": "code",
   "execution_count": 13,
   "metadata": {},
   "outputs": [
    {
     "ename": "TypeError",
     "evalue": "EyeModeling.__init__() missing 1 required positional argument: 'inital_z'",
     "output_type": "error",
     "traceback": [
      "\u001b[1;31m---------------------------------------------------------------------------\u001b[0m",
      "\u001b[1;31mTypeError\u001b[0m                                 Traceback (most recent call last)",
      "Cell \u001b[1;32mIn [13], line 4\u001b[0m\n\u001b[0;32m      2\u001b[0m focal_len \u001b[39m=\u001b[39m \u001b[39m140\u001b[39m \u001b[39m# ??? taken from https://github.com/pupil-labs/pupil/blob/master/pupil_src/shared_modules/camera_models.py Pupil Cam3\u001b[39;00m\n\u001b[0;32m      3\u001b[0m image_shape \u001b[39m=\u001b[39m (\u001b[39m192\u001b[39m, \u001b[39m192\u001b[39m)\n\u001b[1;32m----> 4\u001b[0m eye_modeling \u001b[39m=\u001b[39m EyeModeling(focal_len\u001b[39m=\u001b[39;49mfocal_len, pupil_radius\u001b[39m=\u001b[39;49mestimate_radius_in_px, image_shape\u001b[39m=\u001b[39;49mimage_shape)\n\u001b[0;32m      6\u001b[0m \u001b[39mwith\u001b[39;00m torch\u001b[39m.\u001b[39mno_grad():\n\u001b[0;32m      7\u001b[0m     pupil_trainer\u001b[39m.\u001b[39mmodel\u001b[39m.\u001b[39meval()\n",
      "\u001b[1;31mTypeError\u001b[0m: EyeModeling.__init__() missing 1 required positional argument: 'inital_z'"
     ]
    }
   ],
   "source": [
    "# TODO swirski test\n",
    "focal_len = 140 # ??? taken from https://github.com/pupil-labs/pupil/blob/master/pupil_src/shared_modules/camera_models.py Pupil Cam3\n",
    "image_shape = (192, 192)\n",
    "eye_modeling = EyeModeling(focal_len=focal_len, pupil_radius=estimate_radius_in_px, image_shape=image_shape)\n",
    "\n",
    "with torch.no_grad():\n",
    "    pupil_trainer.model.eval()\n",
    "    pupil_trainer.model = pupil_trainer.model.to(device)\n",
    "    for i, (inputs, masks, opened) in enumerate(pupil_trainer.dataloaders['test']):\n",
    "\n",
    "        inputs = inputs.to(device)\n",
    "        outputs = pupil_trainer.model(inputs)\n",
    "\n",
    "        image = np.transpose(inputs[0].cpu().numpy(), (1, 2, 0)).copy()\n",
    "        outputs_sig = torch.sigmoid(outputs['out'][0])\n",
    "        outputs_sig = np.transpose(outputs_sig.cpu().numpy(), (1, 2, 0)).copy()\n",
    "\n",
    "        ellipse = utils.fit_ellipse(outputs_sig)\n",
    "        if ellipse:\n",
    "            eye_modeling.two_circle_unprojection(ellipse)\n",
    "\n",
    "            vec_img = draw_normal_vectors_2D(image, eye_modeling.disc_centers[i][0][0:2], eye_modeling.disc_normals[i][0][0:2], color=(0,0,255))\n",
    "            vec_img = draw_normal_vectors_2D(image, eye_modeling.disc_centers[i][1][0:2], eye_modeling.disc_normals[i][1][0:2], color=(255,0,0))\n",
    "            plt.imshow(vec_img)\n",
    "            plt.show()\n",
    "\n",
    "        if i > 50:\n",
    "            break\n",
    "    \n",
    "    eye_modeling.sphere_centre_estimate()\n",
    "    print(eye_modeling.estimated_eye_center)\n",
    "    eye_modeling.sphere_radius_estimate()\n",
    "    \n",
    "    "
   ]
  },
  {
   "cell_type": "code",
   "execution_count": null,
   "metadata": {},
   "outputs": [],
   "source": [
    "#TODO 2 NN system\n"
   ]
  }
 ],
 "metadata": {
  "kernelspec": {
   "display_name": "Python 3.10.7 ('my_env': venv)",
   "language": "python",
   "name": "python3"
  },
  "language_info": {
   "codemirror_mode": {
    "name": "ipython",
    "version": 3
   },
   "file_extension": ".py",
   "mimetype": "text/x-python",
   "name": "python",
   "nbconvert_exporter": "python",
   "pygments_lexer": "ipython3",
   "version": "3.10.7"
  },
  "orig_nbformat": 4,
  "vscode": {
   "interpreter": {
    "hash": "835d31919e34e16ebfc56bd2c74fd77981e034dd4359f7c353db7e63b4248092"
   }
  }
 },
 "nbformat": 4,
 "nbformat_minor": 2
}
