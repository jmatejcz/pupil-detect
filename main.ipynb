{
 "cells": [
  {
   "cell_type": "code",
   "execution_count": null,
   "metadata": {},
   "outputs": [],
   "source": [
    "import matplotlib.pyplot as plt\n",
    "from datasets.PupilCoreDatasetPupil import PupilCoreDataset\n",
    "import torch\n",
    "\n",
    "from torchvision.models.segmentation import FCN_ResNet50_Weights, fcn_resnet50\n",
    "import numpy as np\n",
    "import cv2\n",
    "import utils\n",
    "from models.ifOpened import ifOpenedModel\n",
    "from models.trainers import PupilSegmentationTrainer, IfOpenedTrainer"
   ]
  },
  {
   "cell_type": "code",
   "execution_count": null,
   "metadata": {},
   "outputs": [],
   "source": [
    "DATASET_LEN_TO_USE = 5000\n",
    "dataset = PupilCoreDataset(\n",
    "    \"datasets/PupilCoreDataset/video5_eye0_video.avi\",\n",
    "    'datasets/PupilCoreDataset/video5_eye0_pupildata.csv',\n",
    "    \"datasets/PupilCoreDataset/video5_eye1_video.avi\",\n",
    "    'datasets/PupilCoreDataset/video5_eye1_pupildata.csv',\n",
    "    DATASET_LEN_TO_USE\n",
    ")\n",
    "# dataset.get_pupil_ellipse()\n",
    "# dataset.save_masks(\"datasets/PupilCoreDataset/created_masks\")"
   ]
  },
  {
   "cell_type": "code",
   "execution_count": null,
   "metadata": {},
   "outputs": [],
   "source": [
    "device = torch.device('cuda' if torch.cuda.is_available() else 'cpu')\n",
    "device"
   ]
  },
  {
   "cell_type": "code",
   "execution_count": null,
   "metadata": {},
   "outputs": [],
   "source": [
    "ifOpenedModel = ifOpenedModel()\n",
    "PupilSegmentationModel = fcn_resnet50(weights=None, num_classes=1)"
   ]
  },
  {
   "cell_type": "code",
   "execution_count": null,
   "metadata": {},
   "outputs": [],
   "source": [
    "dataset.load_masks(\"datasets/PupilCoreDataset/created_masks/eye0\", \"datasets/PupilCoreDataset/created_masks/eye1\")"
   ]
  },
  {
   "cell_type": "code",
   "execution_count": null,
   "metadata": {},
   "outputs": [],
   "source": [
    "torch.set_printoptions(edgeitems=100)\n",
    "# for i in range(1):\n",
    "#     print(dataset.eye0_masks[0].shape)\n",
    "    # print(dataset[0])\n",
    "#     plt.imshow(dataset.eye0_masks[i*50],cmap='gray')\n",
    "#     plt.show()\n",
    "#     plt.imshow(dataset.eye0_frames[i*50])\n",
    "#     plt.show()"
   ]
  },
  {
   "cell_type": "code",
   "execution_count": null,
   "metadata": {},
   "outputs": [],
   "source": [
    "if_opened_trainer = IfOpenedTrainer(model=ifOpenedModel, dataset=dataset, dataset_len=DATASET_LEN_TO_USE)\n",
    "pupil_trainer = PupilSegmentationTrainer(model=PupilSegmentationModel, dataset=dataset, dataset_len=DATASET_LEN_TO_USE)"
   ]
  },
  {
   "cell_type": "code",
   "execution_count": null,
   "metadata": {},
   "outputs": [],
   "source": [
    "# dataset_pupil.get_pupil_ellipse()"
   ]
  },
  {
   "cell_type": "code",
   "execution_count": null,
   "metadata": {},
   "outputs": [],
   "source": [
    "# def visualize(model, dataloader, device, num_images: int = 5):\n",
    "#     model.eval()\n",
    "#     fig = plt.figure()\n",
    "#     with torch.no_grad():\n",
    "#         for i, (inputs, labels) in enumerate(dataloader):\n",
    "#             inputs = inputs.to(device)\n",
    "#             labels = labels.to(device)\n",
    "\n",
    "#             outputs = model(inputs)\n",
    "            \n",
    "#             center_out = list(map(int, outputs[0].cpu().numpy()))\n",
    "#             center_labels = list(map(int, labels[0].cpu().numpy()))\n",
    "#             print(f\"center_out: {center_out}\", f\"center_label: {center_labels}\")\n",
    "#             image = np.transpose(inputs[0].cpu().numpy(), (1, 2, 0)).copy()\n",
    "            \n",
    "#             # fig.add_subplot(1, num_images, i+1)\n",
    "#             cv2.circle(image, center_out, 1, (255, 0, 0), 1)\n",
    "#             cv2.circle(image, center_labels, 1, (0, 255, 0), 1)\n",
    "#             plt.imshow(image)\n",
    "#             plt.show()\n",
    "#             #cv2.imshow(\"xd\", image)\n",
    "#             if i >= num_images:\n",
    "                \n",
    "#                 return\n",
    "\n",
    "                \n",
    "# visualize(model_pupil, dataloaders['test'], device, 5)"
   ]
  },
  {
   "cell_type": "code",
   "execution_count": null,
   "metadata": {},
   "outputs": [],
   "source": [
    "# def evaluate(model, dataloaders, device, dataset_sizes):\n",
    "#     model.eval()\n",
    "#     correct = 0\n",
    "#     with torch.no_grad():\n",
    "#         for i, (inputs, labels) in enumerate(dataloaders[\"test\"]):\n",
    "#             inputs = inputs.to(device)\n",
    "#             labels = labels.to(device)\n",
    "\n",
    "#             outputs = model(inputs)\n",
    "#             # print(outputs, labels)\n",
    "#             diff = (labels[0][0] - outputs[0][0], labels[0][1] - outputs[0][1])\n",
    "#             # print(diff)\n",
    "#             dist = torch.sqrt(torch.pow(diff[0], 2) + torch.pow(diff[0], 2)) \n",
    "#             if dist < 2: \n",
    "#                 correct += 1\n",
    "        \n",
    "#         acc = correct / dataset_sizes['test']\n",
    "#         print(acc)\n"
   ]
  },
  {
   "cell_type": "code",
   "execution_count": null,
   "metadata": {},
   "outputs": [],
   "source": [
    "# pupil_trainer.train(device=device, num_epochs=5)"
   ]
  },
  {
   "cell_type": "code",
   "execution_count": null,
   "metadata": {},
   "outputs": [],
   "source": [
    "# pupil_trainer.train(device=device, num_epochs=5)\n",
    "pupil_trainer.model.load_state_dict(torch.load(\"models/weights/resnet50.pt\"))\n"
   ]
  },
  {
   "cell_type": "code",
   "execution_count": null,
   "metadata": {},
   "outputs": [],
   "source": [
    "def visualize_pupil(input_img, output_img):\n",
    "\n",
    "    # outputs_soft = torch.softmax(output_img)\n",
    "    # outputs_soft = np.transpose(outputs_sig.cpu().detach().numpy(), (1, 2, 0)).copy() \n",
    "    plt.imshow(input_img)\n",
    "    plt.show()\n",
    "\n",
    "    plt.imshow(output_img)\n",
    "    plt.show()\n"
   ]
  },
  {
   "cell_type": "code",
   "execution_count": null,
   "metadata": {},
   "outputs": [],
   "source": [
    "\n",
    "with torch.no_grad():\n",
    "    pupil_trainer.model.eval()\n",
    "    pupil_trainer.model = pupil_trainer.model.to(device)\n",
    "    for i, (inputs, masks, opened) in enumerate(pupil_trainer.dataloaders['test']):\n",
    "        \n",
    "        inputs = inputs.to(device)\n",
    "        outputs = pupil_trainer.model(inputs)\n",
    "\n",
    "        image = np.transpose(inputs[0].cpu().numpy(), (1, 2, 0)).copy()\n",
    "        outputs_sig = torch.sigmoid(outputs['out'][0])\n",
    "        outputs_sig = np.transpose(outputs_sig.cpu().numpy(), (1, 2, 0)).copy()\n",
    "\n",
    "        visualize_pupil(image, outputs_sig)\n",
    "        ellipse = utils.fit_ellipse(outputs_sig)\n",
    "        if ellipse:\n",
    "            image = utils.draw_ellipse(image, ellipse)\n",
    "            plt.imshow(image)\n",
    "            plt.show()\n",
    "\n",
    "        if i  == 5 :\n",
    "            break\n",
    "    "
   ]
  },
  {
   "cell_type": "code",
   "execution_count": null,
   "metadata": {},
   "outputs": [],
   "source": [
    "#TODO 2 NN system\n"
   ]
  }
 ],
 "metadata": {
  "kernelspec": {
   "display_name": "Python 3.10.7 ('my_env': venv)",
   "language": "python",
   "name": "python3"
  },
  "language_info": {
   "codemirror_mode": {
    "name": "ipython",
    "version": 3
   },
   "file_extension": ".py",
   "mimetype": "text/x-python",
   "name": "python",
   "nbconvert_exporter": "python",
   "pygments_lexer": "ipython3",
   "version": "3.10.7"
  },
  "orig_nbformat": 4,
  "vscode": {
   "interpreter": {
    "hash": "835d31919e34e16ebfc56bd2c74fd77981e034dd4359f7c353db7e63b4248092"
   }
  }
 },
 "nbformat": 4,
 "nbformat_minor": 2
}
