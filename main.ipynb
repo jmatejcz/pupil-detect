{
 "cells": [
  {
   "cell_type": "code",
   "execution_count": 1,
   "metadata": {},
   "outputs": [],
   "source": [
    "import matplotlib.pyplot as plt\n",
    "from datasets.PupilCoreDatasetPupil import PupilCoreDataset\n",
    "import torch\n",
    "from eye_model import EyeModeling\n",
    "from torchvision.models.segmentation import FCN_ResNet50_Weights, fcn_resnet50\n",
    "import numpy as np\n",
    "import cv2\n",
    "import utils\n",
    "from models.ifOpened import ifOpenedModel\n",
    "from models.trainers import PupilSegmentationTrainer, IfOpenedTrainer"
   ]
  },
  {
   "cell_type": "code",
   "execution_count": 2,
   "metadata": {},
   "outputs": [],
   "source": [
    "DATASET_LEN_TO_USE = 5000\n",
    "dataset = PupilCoreDataset(\n",
    "    \"datasets/PupilCoreDataset/video5_eye0_video.avi\",\n",
    "    'datasets/PupilCoreDataset/video5_eye0_pupildata.csv',\n",
    "    \"datasets/PupilCoreDataset/video5_eye1_video.avi\",\n",
    "    'datasets/PupilCoreDataset/video5_eye1_pupildata.csv',\n",
    "    DATASET_LEN_TO_USE\n",
    ")\n",
    "# dataset.get_pupil_ellipse()\n",
    "# dataset.save_masks(\"datasets/PupilCoreDataset/created_masks\")"
   ]
  },
  {
   "cell_type": "code",
   "execution_count": 3,
   "metadata": {},
   "outputs": [
    {
     "data": {
      "text/plain": [
       "device(type='cuda')"
      ]
     },
     "execution_count": 3,
     "metadata": {},
     "output_type": "execute_result"
    }
   ],
   "source": [
    "device = torch.device('cuda' if torch.cuda.is_available() else 'cpu')\n",
    "device"
   ]
  },
  {
   "cell_type": "code",
   "execution_count": 4,
   "metadata": {},
   "outputs": [
    {
     "name": "stderr",
     "output_type": "stream",
     "text": [
      "c:\\Users\\Admin\\Desktop\\inzynierka\\my_env\\lib\\site-packages\\torchvision\\models\\_utils.py:208: UserWarning: The parameter 'pretrained' is deprecated since 0.13 and will be removed in 0.15, please use 'weights' instead.\n",
      "  warnings.warn(\n",
      "c:\\Users\\Admin\\Desktop\\inzynierka\\my_env\\lib\\site-packages\\torchvision\\models\\_utils.py:223: UserWarning: Arguments other than a weight enum or `None` for 'weights' are deprecated since 0.13 and will be removed in 0.15. The current behavior is equivalent to passing `weights=SqueezeNet1_1_Weights.IMAGENET1K_V1`. You can also use `weights=SqueezeNet1_1_Weights.DEFAULT` to get the most up-to-date weights.\n",
      "  warnings.warn(msg)\n"
     ]
    }
   ],
   "source": [
    "ifOpenedModel = ifOpenedModel()\n",
    "PupilSegmentationModel = fcn_resnet50(weights=None, num_classes=1)"
   ]
  },
  {
   "cell_type": "code",
   "execution_count": 5,
   "metadata": {},
   "outputs": [],
   "source": [
    "dataset.load_masks(\"datasets/PupilCoreDataset/created_masks/eye0\", \"datasets/PupilCoreDataset/created_masks/eye1\")"
   ]
  },
  {
   "cell_type": "code",
   "execution_count": 6,
   "metadata": {},
   "outputs": [],
   "source": [
    "torch.set_printoptions(edgeitems=100)\n"
   ]
  },
  {
   "cell_type": "code",
   "execution_count": 7,
   "metadata": {},
   "outputs": [],
   "source": [
    "if_opened_trainer = IfOpenedTrainer(model=ifOpenedModel, dataset=dataset, dataset_len=DATASET_LEN_TO_USE)\n",
    "pupil_trainer = PupilSegmentationTrainer(model=PupilSegmentationModel, dataset=dataset, dataset_len=DATASET_LEN_TO_USE)"
   ]
  },
  {
   "cell_type": "code",
   "execution_count": 8,
   "metadata": {},
   "outputs": [],
   "source": [
    "# dataset_pupil.get_pupil_ellipse()"
   ]
  },
  {
   "cell_type": "code",
   "execution_count": 9,
   "metadata": {},
   "outputs": [],
   "source": [
    "# pupil_trainer.train(device=device, num_epochs=5)"
   ]
  },
  {
   "cell_type": "code",
   "execution_count": 10,
   "metadata": {},
   "outputs": [
    {
     "data": {
      "text/plain": [
       "<All keys matched successfully>"
      ]
     },
     "execution_count": 10,
     "metadata": {},
     "output_type": "execute_result"
    }
   ],
   "source": [
    "# pupil_trainer.train(device=device, num_epochs=5)\n",
    "pupil_trainer.model.load_state_dict(torch.load(\"models/weights/resnet50.pt\"))\n"
   ]
  },
  {
   "cell_type": "code",
   "execution_count": 11,
   "metadata": {},
   "outputs": [],
   "source": [
    "def visualize_mask(image, mask):\n",
    "    with torch.no_grad():\n",
    "        pupil_trainer.model.eval()\n",
    "        pupil_trainer.model = pupil_trainer.model.to(device)\n",
    "        for i, (inputs, masks, opened) in enumerate(pupil_trainer.dataloaders['test']):\n",
    "\n",
    "            inputs = inputs.to(device)\n",
    "            outputs = pupil_trainer.model(inputs)\n",
    "\n",
    "\n",
    "            image = np.transpose(inputs[0].cpu().numpy(), (1, 2, 0)).copy()\n",
    "            outputs_sig = torch.sigmoid(outputs['out'][0])\n",
    "            outputs_sig = np.transpose(outputs_sig.cpu().numpy(), (1, 2, 0)).copy()\n",
    "\n",
    "            # visualize_pupil(image, outputs_sig)\n",
    "            ellipse = utils.fit_ellipse(outputs_sig)\n",
    "            print(ellipse)\n",
    "            break\n",
    "\n"
   ]
  },
  {
   "cell_type": "code",
   "execution_count": 12,
   "metadata": {},
   "outputs": [],
   "source": [
    "# TODO zmierzyc focal_len na obrazkach w pikselach\n",
    "# trzeba zebrac obrazki gdzie oko patrzy w miare prosto\n",
    "\n",
    "estimate_radius_in_px = utils.get_pupil_radius_from_masks(dataset.eye0_masks)\n"
   ]
  },
  {
   "cell_type": "code",
   "execution_count": 17,
   "metadata": {},
   "outputs": [
    {
     "name": "stdout",
     "output_type": "stream",
     "text": [
      "[array([[0.68684286],\n",
      "       [0.72514526]]), array([[-0.05450137],\n",
      "       [ 0.82087196]]), array([[0.68807439],\n",
      "       [0.70643098]]), array([[0.33543768],\n",
      "       [0.82169662]]), array([[0.75314055],\n",
      "       [0.65781581]]), array([[0.61962266],\n",
      "       [0.78231499]]), array([[0.80270133],\n",
      "       [0.58630444]]), array([[0.48584085],\n",
      "       [0.86350593]]), array([[0.70299241],\n",
      "       [0.68440289]]), array([[-0.31010828],\n",
      "       [ 0.5211805 ]]), array([[0.89422036],\n",
      "       [0.44590278]]), array([[0.36785847],\n",
      "       [0.8824484 ]]), array([[0.42903149],\n",
      "       [0.89941671]]), array([[0.72314078],\n",
      "       [0.64995811]]), array([[0.80937381],\n",
      "       [0.57152455]]), array([[0.42432246],\n",
      "       [0.90541458]]), array([[0.80917056],\n",
      "       [0.56524678]]), array([[0.85117277],\n",
      "       [0.48853029]]), array([[0.64230957],\n",
      "       [0.76003635]]), array([[0.82914151],\n",
      "       [0.55896092]]), array([[0.7463764 ],\n",
      "       [0.63215583]])]\n",
      "\n",
      "(2, 1)\n",
      "[[-56.04307308]\n",
      " [-15.42977138]]\n"
     ]
    }
   ],
   "source": [
    "# TODO swirski test\n",
    "focal_len = 140 # ??? taken from https://github.com/pupil-labs/pupil/blob/master/pupil_src/shared_modules/camera_models.py Pupil Cam3\n",
    "eye_modeling = EyeModeling(focal_len=focal_len, pupil_radius=estimate_radius_in_px)\n",
    "\n",
    "with torch.no_grad():\n",
    "    pupil_trainer.model.eval()\n",
    "    pupil_trainer.model = pupil_trainer.model.to(device)\n",
    "    for i, (inputs, masks, opened) in enumerate(pupil_trainer.dataloaders['test']):\n",
    "\n",
    "        inputs = inputs.to(device)\n",
    "        outputs = pupil_trainer.model(inputs)\n",
    "\n",
    "        image = np.transpose(inputs[0].cpu().numpy(), (1, 2, 0)).copy()\n",
    "        outputs_sig = torch.sigmoid(outputs['out'][0])\n",
    "        outputs_sig = np.transpose(outputs_sig.cpu().numpy(), (1, 2, 0)).copy()\n",
    "\n",
    "        ellipse = utils.fit_ellipse(outputs_sig)\n",
    "        if ellipse:\n",
    "            eye_modeling.two_circle_unprojection(ellipse)\n",
    "\n",
    "        if i > 50:\n",
    "            break\n",
    "    \n",
    "    eye_modeling.sphere_centre_estimate()\n",
    "    print(eye_modeling.estimated_eye_center)\n",
    "    \n",
    "    "
   ]
  },
  {
   "cell_type": "code",
   "execution_count": 14,
   "metadata": {},
   "outputs": [],
   "source": [
    "#TODO 2 NN system\n"
   ]
  }
 ],
 "metadata": {
  "kernelspec": {
   "display_name": "Python 3.10.7 ('my_env': venv)",
   "language": "python",
   "name": "python3"
  },
  "language_info": {
   "codemirror_mode": {
    "name": "ipython",
    "version": 3
   },
   "file_extension": ".py",
   "mimetype": "text/x-python",
   "name": "python",
   "nbconvert_exporter": "python",
   "pygments_lexer": "ipython3",
   "version": "3.10.7"
  },
  "orig_nbformat": 4,
  "vscode": {
   "interpreter": {
    "hash": "835d31919e34e16ebfc56bd2c74fd77981e034dd4359f7c353db7e63b4248092"
   }
  }
 },
 "nbformat": 4,
 "nbformat_minor": 2
}
