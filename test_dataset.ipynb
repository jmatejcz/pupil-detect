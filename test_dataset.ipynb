{
 "cells": [
  {
   "cell_type": "code",
   "execution_count": 5,
   "metadata": {},
   "outputs": [
    {
     "name": "stdout",
     "output_type": "stream",
     "text": [
      "can't receive frame\n"
     ]
    },
    {
     "ename": "TypeError",
     "evalue": "string indices must be integers",
     "output_type": "error",
     "traceback": [
      "\u001b[1;31m---------------------------------------------------------------------------\u001b[0m",
      "\u001b[1;31mTypeError\u001b[0m                                 Traceback (most recent call last)",
      "Cell \u001b[1;32mIn [5], line 12\u001b[0m\n\u001b[0;32m     10\u001b[0m plt\u001b[39m.\u001b[39mfigure()\n\u001b[0;32m     11\u001b[0m image \u001b[39m=\u001b[39m frame\n\u001b[1;32m---> 12\u001b[0m \u001b[39mprint\u001b[39m(label[\u001b[39m\"\u001b[39;49m\u001b[39mx\u001b[39;49m\u001b[39m\"\u001b[39;49m])\n\u001b[0;32m     13\u001b[0m cv2\u001b[39m.\u001b[39mcircle(image, (\u001b[39mint\u001b[39m(label[\u001b[39m'\u001b[39m\u001b[39mx\u001b[39m\u001b[39m'\u001b[39m]), \u001b[39mint\u001b[39m(label[\u001b[39m'\u001b[39m\u001b[39my\u001b[39m\u001b[39m'\u001b[39m])), \u001b[39m1\u001b[39m, (\u001b[39m255\u001b[39m, \u001b[39m0\u001b[39m, \u001b[39m0\u001b[39m), \u001b[39m1\u001b[39m)\n\u001b[0;32m     14\u001b[0m cv2\u001b[39m.\u001b[39mcircle(image, (label[\u001b[39m'\u001b[39m\u001b[39ma\u001b[39m\u001b[39m'\u001b[39m], label[\u001b[39m'\u001b[39m\u001b[39mb\u001b[39m\u001b[39m'\u001b[39m]), \u001b[39m1\u001b[39m, (\u001b[39m0\u001b[39m, \u001b[39m255\u001b[39m, \u001b[39m0\u001b[39m), \u001b[39m1\u001b[39m)\n",
      "\u001b[1;31mTypeError\u001b[0m: string indices must be integers"
     ]
    },
    {
     "data": {
      "text/plain": [
       "<Figure size 640x480 with 0 Axes>"
      ]
     },
     "metadata": {},
     "output_type": "display_data"
    }
   ],
   "source": [
    "import datasets.utils as utils \n",
    "import cv2\n",
    "import matplotlib.pyplot as plt\n",
    "\n",
    "frames = utils.get_frames_from_video(\"datasets/PupilCoreDataset/video5_eye0_video.avi\")\n",
    "labels = utils.get_labels_from_csv('datasets/PupilCoreDataset/video5_eye0_pupildata.csv')\n",
    "for frame, label in zip(frames, labels):\n",
    "    # print(frame)\n",
    "    # print(label[])\n",
    "    plt.figure()\n",
    "    image = frame\n",
    "    print(label[\"x\"])\n",
    "    cv2.circle(image, (int(label['x']), int(label['y'])), 1, (255, 0, 0), 1)\n",
    "    cv2.circle(image, (label['a'], label['b']), 1, (0, 255, 0), 1)\n",
    "    cv2.circle(image, (label['w'], label['h']), 1, (0, 0, 255), 1)\n",
    "    plt.imshow(image)\n",
    "    plt.show()\n",
    "    # cv2.imshow(\"chuj\", image)\n",
    "# \"datasets/PupilCoreDataset/video5_eye0_video.avi\",\n",
    "# 'datasets/PupilCoreDataset/video5_eye0_pupildata.csv',\n",
    "# \"datasets/PupilCoreDataset/video5_eye1_video.avi\",\n",
    "# 'datasets/PupilCoreDataset/video5_eye1_pupildata.csv'"
   ]
  },
  {
   "cell_type": "code",
   "execution_count": null,
   "metadata": {},
   "outputs": [],
   "source": []
  }
 ],
 "metadata": {
  "kernelspec": {
   "display_name": "Python 3.10.7 ('my_env': venv)",
   "language": "python",
   "name": "python3"
  },
  "language_info": {
   "codemirror_mode": {
    "name": "ipython",
    "version": 3
   },
   "file_extension": ".py",
   "mimetype": "text/x-python",
   "name": "python",
   "nbconvert_exporter": "python",
   "pygments_lexer": "ipython3",
   "version": "3.10.7"
  },
  "orig_nbformat": 4,
  "vscode": {
   "interpreter": {
    "hash": "835d31919e34e16ebfc56bd2c74fd77981e034dd4359f7c353db7e63b4248092"
   }
  }
 },
 "nbformat": 4,
 "nbformat_minor": 2
}
