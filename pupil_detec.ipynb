{
  "cells": [
    {
      "cell_type": "code",
      "execution_count": 12,
      "metadata": {
        "colab": {
          "base_uri": "https://localhost:8080/"
        },
        "id": "UyMoh2p-Nnha",
        "outputId": "41decfd0-856c-4e31-bfe8-32740e2e1226"
      },
      "outputs": [],
      "source": [
        "import pandas as pd\n",
        "import torch\n",
        "from torch import nn\n",
        "from torchvision import models, transforms\n",
        "import numpy as np\n",
        "import time\n",
        "import copy\n",
        "from torchvision import datasets, models, transforms"
      ]
    },
    {
      "cell_type": "code",
      "execution_count": 13,
      "metadata": {
        "id": "7Mb-Q177Q3-N"
      },
      "outputs": [],
      "source": [
        "import cv2\n",
        "#from google.colab.patches import cv2_imshow\n",
        "\n",
        "def get_frames_from_video(video_path):\n",
        "    frames = []\n",
        "    cap = cv2.VideoCapture(video_path)\n",
        "    if cap.isOpened():\n",
        "        width = int(cap.get(cv2.CAP_PROP_FRAME_WIDTH))\n",
        "        height = int(cap.get(cv2.CAP_PROP_FRAME_HEIGHT))\n",
        "        res=(int(width), int(height))\n",
        "        while True:\n",
        "            try:\n",
        "                is_success, frame = cap.read()\n",
        "            except cv2.error:\n",
        "                print(\"err\")\n",
        "                continue\n",
        "            if not is_success:\n",
        "                print(\"can't receive frame\")\n",
        "                break \n",
        "            image = cv2.cvtColor(frame, cv2.COLOR_BGR2RGB)\n",
        "            frames.append(image)\n",
        "    cap.release()\n",
        "    return frames\n",
        "\n",
        "def get_labels_from_csv(csv_path):\n",
        "    df = pd.read_csv(csv_path)\n",
        "    df.drop(['p', 'w', 'h'], axis=1, inplace=True)\n",
        "    df.rename(columns={\"x\":\"pupil_center_x_coord\", \"y\":\"pupil_center_y_coord\", \"a\":\"corneal_reflection_x_coord\", \"b\":\"corneal_reflection_y_coord\"}, inplace=True)\n",
        "    return df"
      ]
    },
    {
      "cell_type": "code",
      "execution_count": 27,
      "metadata": {
        "id": "UVBzHJQ3m5EF"
      },
      "outputs": [],
      "source": [
        "class PupilCoreDataset(torch.utils.data.Dataset):\n",
        "    def __init__(self, eye0_video_path, eye0_labels_path, eye1_video_path, eye1_labels_path) -> None:\n",
        "        super().__init__()\n",
        "        self.eye0_video_path = eye0_video_path\n",
        "        self.eye0_labels_path = eye0_labels_path\n",
        "        self.eye1_video_path = eye1_video_path\n",
        "        self.eye1_labels_path = eye1_labels_path\n",
        "        self.eye0_labels_df = get_labels_from_csv(self.eye0_labels_path)\n",
        "        self.eye0_frames = get_frames_from_video(self.eye0_video_path)\n",
        "        self.eye1_labels_df = get_labels_from_csv(self.eye1_labels_path)\n",
        "        self.eye1_frames = get_frames_from_video(self.eye1_video_path)\n",
        "\n",
        "    def __getitem__(self, idx):\n",
        "        pupil_coords = (self.eye0_labels_df.at[idx, 'pupil_center_x_coord'], self.eye0_labels_df.at[idx, 'pupil_center_y_coord'])\n",
        "        image = self.eye0_frames[idx]\n",
        "        T = transforms.Compose([transforms.ToTensor()])\n",
        "        image = T(image)\n",
        "        return image, pupil_coords\n",
        "\n",
        "    def __len__(self):\n",
        "        return len(self.eye0_frames)\n",
        "        "
      ]
    },
    {
      "cell_type": "code",
      "execution_count": 29,
      "metadata": {
        "id": "dngMlOx4yPDk"
      },
      "outputs": [
        {
          "name": "stdout",
          "output_type": "stream",
          "text": [
            "can't receive frame\n",
            "can't receive frame\n"
          ]
        }
      ],
      "source": [
        "dataset = PupilCoreDataset(\n",
        "    \"PupilCoreDataset/video5_eye0_video.avi\",\n",
        "    'PupilCoreDataset/video5_eye0_pupildata.csv',\n",
        "    \"PupilCoreDataset/video5_eye1_video.avi\",\n",
        "    'PupilCoreDataset/video5_eye1_pupildata.csv'\n",
        ")\n"
      ]
    },
    {
      "cell_type": "code",
      "execution_count": 31,
      "metadata": {
        "id": "smSYFbkKytky"
      },
      "outputs": [
        {
          "ename": "InvalidIndexError",
          "evalue": "slice(None, 19114.4, None)",
          "output_type": "error",
          "traceback": [
            "\u001b[1;31m---------------------------------------------------------------------------\u001b[0m",
            "\u001b[1;31mInvalidIndexError\u001b[0m                         Traceback (most recent call last)",
            "Cell \u001b[1;32mIn [31], line 5\u001b[0m\n\u001b[0;32m      1\u001b[0m \u001b[38;5;66;03m#dataset.eye0_frames\u001b[39;00m\n\u001b[0;32m      2\u001b[0m \u001b[38;5;66;03m#dataset.eye0_labels_df.iloc[1]\u001b[39;00m\n\u001b[0;32m      4\u001b[0m train_part \u001b[38;5;241m=\u001b[39m \u001b[38;5;241m0.8\u001b[39m \u001b[38;5;241m*\u001b[39m \u001b[38;5;28mlen\u001b[39m(dataset)\n\u001b[1;32m----> 5\u001b[0m train_dataset \u001b[38;5;241m=\u001b[39m \u001b[43mdataset\u001b[49m\u001b[43m[\u001b[49m\u001b[43m:\u001b[49m\u001b[43mtrain_part\u001b[49m\u001b[43m]\u001b[49m\n\u001b[0;32m      6\u001b[0m test_dataset \u001b[38;5;241m=\u001b[39m dataset[train_part:]\n",
            "Cell \u001b[1;32mIn [27], line 14\u001b[0m, in \u001b[0;36mPupilCoreDataset.__getitem__\u001b[1;34m(self, idx)\u001b[0m\n\u001b[0;32m     13\u001b[0m \u001b[38;5;28;01mdef\u001b[39;00m \u001b[38;5;21m__getitem__\u001b[39m(\u001b[38;5;28mself\u001b[39m, idx):\n\u001b[1;32m---> 14\u001b[0m     pupil_coords \u001b[38;5;241m=\u001b[39m (\u001b[38;5;28;43mself\u001b[39;49m\u001b[38;5;241;43m.\u001b[39;49m\u001b[43meye0_labels_df\u001b[49m\u001b[38;5;241;43m.\u001b[39;49m\u001b[43mat\u001b[49m\u001b[43m[\u001b[49m\u001b[43midx\u001b[49m\u001b[43m,\u001b[49m\u001b[43m \u001b[49m\u001b[38;5;124;43m'\u001b[39;49m\u001b[38;5;124;43mpupil_center_x_coord\u001b[39;49m\u001b[38;5;124;43m'\u001b[39;49m\u001b[43m]\u001b[49m, \u001b[38;5;28mself\u001b[39m\u001b[38;5;241m.\u001b[39meye0_labels_df\u001b[38;5;241m.\u001b[39mat[idx, \u001b[38;5;124m'\u001b[39m\u001b[38;5;124mpupil_center_y_coord\u001b[39m\u001b[38;5;124m'\u001b[39m])\n\u001b[0;32m     15\u001b[0m     image \u001b[38;5;241m=\u001b[39m \u001b[38;5;28mself\u001b[39m\u001b[38;5;241m.\u001b[39meye0_frames[idx]\n\u001b[0;32m     16\u001b[0m     T \u001b[38;5;241m=\u001b[39m transforms\u001b[38;5;241m.\u001b[39mCompose([transforms\u001b[38;5;241m.\u001b[39mToTensor()])\n",
            "File \u001b[1;32mc:\\Users\\Admin\\Desktop\\inzynierka\\pupil_detec_3_10\\lib\\site-packages\\pandas\\core\\indexing.py:2275\u001b[0m, in \u001b[0;36m__getitem__\u001b[1;34m(self, key)\u001b[0m\n",
            "File \u001b[1;32mc:\\Users\\Admin\\Desktop\\inzynierka\\pupil_detec_3_10\\lib\\site-packages\\pandas\\core\\indexing.py:2226\u001b[0m, in \u001b[0;36m__getitem__\u001b[1;34m(self, key)\u001b[0m\n",
            "File \u001b[1;32mc:\\Users\\Admin\\Desktop\\inzynierka\\pupil_detec_3_10\\lib\\site-packages\\pandas\\core\\frame.py:3622\u001b[0m, in \u001b[0;36m_get_value\u001b[1;34m(self, index, col, takeable)\u001b[0m\n",
            "File \u001b[1;32mc:\\Users\\Admin\\Desktop\\inzynierka\\pupil_detec_3_10\\lib\\site-packages\\pandas\\core\\indexes\\range.py:388\u001b[0m, in \u001b[0;36mget_loc\u001b[1;34m(self, key, method, tolerance)\u001b[0m\n",
            "File \u001b[1;32mc:\\Users\\Admin\\Desktop\\inzynierka\\pupil_detec_3_10\\lib\\site-packages\\pandas\\core\\indexes\\base.py:5651\u001b[0m, in \u001b[0;36m_check_indexing_error\u001b[1;34m(self, key)\u001b[0m\n",
            "\u001b[1;31mInvalidIndexError\u001b[0m: slice(None, 19114.4, None)"
          ]
        }
      ],
      "source": [
        "#dataset.eye0_frames\n",
        "#dataset.eye0_labels_df.iloc[1]\n",
        "\n",
        "train_part = 0.8 * len(dataset)\n",
        "print(train_part)\n",
        "train_dataset = dataset[:train_part]\n",
        "test_dataset = dataset[train_part:]"
      ]
    },
    {
      "cell_type": "code",
      "execution_count": 20,
      "metadata": {
        "id": "EJLH1_OCs0UE"
      },
      "outputs": [
        {
          "data": {
            "text/plain": [
              "device(type='cpu')"
            ]
          },
          "execution_count": 20,
          "metadata": {},
          "output_type": "execute_result"
        }
      ],
      "source": [
        "device = torch.device('cuda' if torch.cuda.is_available() else 'cpu')\n",
        "device\n",
        "# TODO pobrac i wkomponowac CUDA"
      ]
    },
    {
      "cell_type": "code",
      "execution_count": null,
      "metadata": {},
      "outputs": [],
      "source": [
        "train_dataloader = torch.utils.data.DataLoader(train_dataset, batch_size=8, shuffle=True)\n",
        "test_dataloader = torch.utils.data.DataLoader(test_dataset, batch_size=8, shuffle=True)"
      ]
    },
    {
      "cell_type": "code",
      "execution_count": 21,
      "metadata": {
        "id": "xg5tdU84ceyw"
      },
      "outputs": [],
      "source": [
        "def train_model(model, criterion, optimizer, scheduler, num_epochs=25):\n",
        "    since = time.time()\n",
        "\n",
        "    best_model_wts = copy.deepcopy(model.state_dict())\n",
        "    best_acc = 0.0\n",
        "\n",
        "    for epoch in range(num_epochs):\n",
        "        print(f'Epoch {epoch}/{num_epochs - 1}')\n",
        "        print('-' * 10)\n",
        "\n",
        "        # Each epoch has a training and validation phase\n",
        "        for phase in ['train', 'val']:\n",
        "            if phase == 'train':\n",
        "                model.train()  # Set model to training mode\n",
        "            else:\n",
        "                model.eval()   # Set model to evaluate mode\n",
        "\n",
        "            running_loss = 0.0\n",
        "            running_corrects = 0\n",
        "\n",
        "            # Iterate over data.\n",
        "            for inputs, labels in dataloaders[phase]:\n",
        "                inputs = inputs.to(device)\n",
        "                labels = labels.to(device)\n",
        "\n",
        "                # zero the parameter gradients\n",
        "                optimizer.zero_grad()\n",
        "\n",
        "                # forward\n",
        "                # track history if only in train\n",
        "                with torch.set_grad_enabled(phase == 'train'):\n",
        "                    outputs = model(inputs)\n",
        "                    _, preds = torch.max(outputs, 1)\n",
        "                    loss = criterion(outputs, labels)\n",
        "\n",
        "                    # backward + optimize only if in training phase\n",
        "                    if phase == 'train':\n",
        "                        loss.backward()\n",
        "                        optimizer.step()\n",
        "\n",
        "                # statistics\n",
        "                running_loss += loss.item() * inputs.size(0)\n",
        "                running_corrects += torch.sum(preds == labels.data)\n",
        "            if phase == 'train':\n",
        "                scheduler.step()\n",
        "\n",
        "            epoch_loss = running_loss / dataset_sizes[phase]\n",
        "            epoch_acc = running_corrects.double() / dataset_sizes[phase]\n",
        "\n",
        "            print(f'{phase} Loss: {epoch_loss:.4f} Acc: {epoch_acc:.4f}')\n",
        "\n",
        "            # deep copy the model\n",
        "            if phase == 'val' and epoch_acc > best_acc:\n",
        "                best_acc = epoch_acc\n",
        "                best_model_wts = copy.deepcopy(model.state_dict())\n",
        "\n",
        "        print()\n",
        "\n",
        "    time_elapsed = time.time() - since\n",
        "    print(f'Training complete in {time_elapsed // 60:.0f}m {time_elapsed % 60:.0f}s')\n",
        "    print(f'Best val Acc: {best_acc:4f}')\n",
        "\n",
        "    # load best model weights\n",
        "    model.load_state_dict(best_model_wts)\n",
        "    return model"
      ]
    },
    {
      "cell_type": "code",
      "execution_count": 22,
      "metadata": {
        "id": "zu6HKjR_anWH"
      },
      "outputs": [
        {
          "name": "stderr",
          "output_type": "stream",
          "text": [
            "c:\\Users\\Admin\\Desktop\\inzynierka\\pupil_detec_3_10\\lib\\site-packages\\torchvision\\models\\_utils.py:208: UserWarning: The parameter 'pretrained' is deprecated since 0.13 and will be removed in 0.15, please use 'weights' instead.\n",
            "  warnings.warn(\n",
            "c:\\Users\\Admin\\Desktop\\inzynierka\\pupil_detec_3_10\\lib\\site-packages\\torchvision\\models\\_utils.py:223: UserWarning: Arguments other than a weight enum or `None` for 'weights' are deprecated since 0.13 and will be removed in 0.15. The current behavior is equivalent to passing `weights=SqueezeNet1_1_Weights.IMAGENET1K_V1`. You can also use `weights=SqueezeNet1_1_Weights.DEFAULT` to get the most up-to-date weights.\n",
            "  warnings.warn(msg)\n",
            "Downloading: \"https://download.pytorch.org/models/squeezenet1_1-b8a52dc0.pth\" to C:\\Users\\Admin/.cache\\torch\\hub\\checkpoints\\squeezenet1_1-b8a52dc0.pth\n",
            "100.0%\n"
          ]
        }
      ],
      "source": [
        "model = models.squeezenet1_1(pretrained=True)"
      ]
    },
    {
      "cell_type": "code",
      "execution_count": null,
      "metadata": {},
      "outputs": [],
      "source": [
        "# TODO model wykrywajacy zamkniete lub otwarte oko\n"
      ]
    },
    {
      "cell_type": "code",
      "execution_count": null,
      "metadata": {},
      "outputs": [],
      "source": [
        "# TODO model do detekcji źrenicy"
      ]
    }
  ],
  "metadata": {
    "colab": {
      "collapsed_sections": [],
      "provenance": []
    },
    "kernelspec": {
      "display_name": "Python 3.10.7 ('pupil_detec_3_10': venv)",
      "language": "python",
      "name": "python3"
    },
    "language_info": {
      "codemirror_mode": {
        "name": "ipython",
        "version": 3
      },
      "file_extension": ".py",
      "mimetype": "text/x-python",
      "name": "python",
      "nbconvert_exporter": "python",
      "pygments_lexer": "ipython3",
      "version": "3.10.7"
    },
    "vscode": {
      "interpreter": {
        "hash": "6412e6e606cbea481d69dc031e6011dfa0df785c6db01668e5963748433fb54b"
      }
    }
  },
  "nbformat": 4,
  "nbformat_minor": 0
}
